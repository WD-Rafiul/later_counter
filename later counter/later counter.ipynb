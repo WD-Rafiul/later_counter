{
 "cells": [
  {
   "cell_type": "code",
   "execution_count": null,
   "metadata": {},
   "outputs": [],
   "source": [
    "sting =input(\"Enter somthing\")\n",
    "low = sting.lower()\n",
    "a = low.count(\"a\")\n",
    "b = low.count(\"b\")\n",
    "c = low.count(\"c\")\n",
    "d = low.count(\"d\")\n",
    "e = low.count(\"e\")\n",
    "f = low.count(\"f\")\n",
    "g = low.count(\"g\")\n",
    "h = low.count(\"h\")\n",
    "i = low.count(\"i\")\n",
    "j = low.count(\"j\")\n",
    "k = low.count(\"k\")\n",
    "l = low.count(\"l\")\n",
    "m = low.count(\"m\")\n",
    "n = low.count(\"n\")\n",
    "o = low.count(\"o\")\n",
    "p = low.count(\"p\")\n",
    "q = low.count(\"q\")\n",
    "r = low.count(\"r\")\n",
    "s = low.count(\"s\")\n",
    "t = low.count(\"t\")\n",
    "u = low.count(\"u\")\n",
    "v = low.count(\"v\")\n",
    "w = low.count(\"w\")\n",
    "x = low.count(\"x\")\n",
    "y = low.count(\"y\")\n",
    "z = low.count(\"z\")\n",
    "vaowel = a+e+i+o+u\n",
    "space = sting.count(\" \")\n",
    "coma = sting.count(\",\")\n",
    "consonant = (len(sting)-(coma + space + vaowel))\n",
    "print(f\"total vaowel :{vaowel} (a:{a}, e:{e}, i:{i}, o:{o}, u:{u}) \\ncoma :{coma} \\nspace :{space} \\nconsonant :{consonant} (b:{b}, c:{c}, d:{d}, f:{f}, g:{g}, h:{h}, j:{j}, k:{k}, l:{l}, m:{m}, n:{n}, p:{p}, q:{q}, r:{r}, s:{s}, t:{t}, v:{v}, w:{w}, x:{x}, y:{y}, z:{z})\")"
   ]
  }
 ],
 "metadata": {
  "kernelspec": {
   "display_name": "Rafeul_new",
   "language": "python",
   "name": "python3"
  },
  "language_info": {
   "name": "python",
   "version": "3.8.16"
  },
  "orig_nbformat": 4
 },
 "nbformat": 4,
 "nbformat_minor": 2
}
